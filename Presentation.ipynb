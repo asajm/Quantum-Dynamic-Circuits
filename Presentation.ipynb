{
 "cells": [
  {
   "cell_type": "markdown",
   "metadata": {
    "slideshow": {
     "slide_type": "slide"
    }
   },
   "source": [
    "<center>\n",
    "<img src=\"resources/kfupm.png\" width=\"20%\">\n",
    "</center>\n",
    "\n",
    "---\n",
    "\n",
    "<br>\n",
    "<center>\n",
    "    <h1>Quantum Dynamic Circuits</h1>\n",
    "    <h2>IBM Quantum Spring Challenge 2023</h2>\n",
    "</center>\n",
    "<br>\n",
    "<br>\n",
    "\n",
    "---\n",
    "\n",
    "<p style=\"text-align: center; font-size: 18px;\">By: Ahmed Almalki</p>"
   ]
  },
  {
   "cell_type": "markdown",
   "metadata": {
    "slideshow": {
     "slide_type": "slide"
    }
   },
   "source": [
    "## What is IBM Quantum Challenge\n",
    "---\n",
    "**The IBM Quantum Challenge** is a free `online event` that introduces quantum computing to learners. It features themed exercises on real quantum hardware and is open to all, regardless of experience.\n",
    "\n",
    "**The Challenge** is divided into four levels of ascending difficulty: `Explorer`, `Adventurer`, `Pioneer`, and `Master`. Each level consists of a series of exercises that introduce participants to different aspects of quantum computing. The exercises are designed to be challenging, but also fun and engaging.\n",
    "\n",
    "### The benefits of IBM Quantum Challenge:\n",
    "- Work on `challenging exercises` that will help you develop your skills.\n",
    "- Connect with other learners and experts in `the quantum community`.\n",
    "- Get a glimpse of `the future of computing`."
   ]
  },
  {
   "cell_type": "markdown",
   "metadata": {
    "slideshow": {
     "slide_type": "slide"
    }
   },
   "source": [
    "# IBM Quantum Challenge 2023\n",
    "---\n",
    "\n",
    "This year’s challenge focued on **`dynamic circuits`**, a technology that makes it easier to run more-advanced quantum algorithms. This event featured 5 Labs, each with exercises and tutorial content to get you started using Dynamic Circuits.\n",
    "## Challenge content\n",
    "- **Lab 1:** Intro to Dynamic Circuits\n",
    "- **Lab 2:** Quantum Teleportation\n",
    "- **Lab 3:** Iterative Phase Estimation\n",
    "- **Lab 4:** Quantum Error Correction\n",
    "- **Lab 5:** Using a 127-qubit System"
   ]
  },
  {
   "cell_type": "markdown",
   "metadata": {
    "slideshow": {
     "slide_type": "slide"
    }
   },
   "source": [
    "# Intro to Dynamic Circuits\n",
    "---\n",
    "\n",
    "**Dynamic circuits** are quantum circuits with mid-circuit measurements, enabling classical feedforward.\n",
    "\n",
    "**IBM Quantum hardware** recently added support for mid-circuit measurements and reset, but enabling classical feedforward required a substantial redesign of the control systems and software stack. Full support for dynamic circuits was introduced in `2022`.\n",
    "\n",
    "<center>\n",
    "<img src=\"resources/sketch-1.png\" width=\"50%\">\n",
    "</center>"
   ]
  },
  {
   "cell_type": "code",
   "execution_count": 178,
   "metadata": {
    "slideshow": {
     "slide_type": "skip"
    }
   },
   "outputs": [],
   "source": [
    "from qiskit_aer import AerSimulator\n",
    "from qiskit.visualization import *\n",
    "\n",
    "def simulate_circuit(qc):\n",
    "    backend_sim = AerSimulator()\n",
    "    reset_sim_job = backend_sim.run(qc)\n",
    "    reset_sim_result = reset_sim_job.result()\n",
    "    return reset_sim_result.get_counts()\n",
    "\n",
    "def draw_circuit_and_print_output(qc):\n",
    "    fig, axs = plt.subplots(1, 2, width_ratios=[.7, .3], figsize=(15, 4))\n",
    "    fig.subplots_adjust(wspace=0.5)\n",
    "    circuit_drawer(qc, ax=axs[0], output='mpl')\n",
    "    axs[1].text(0.5, 0.5, output_text(qc), fontsize=18, ha='center', va='center')\n",
    "    axs[1].axis('off')\n",
    "#     plot_histogram(counts_sim, ax=axs[1])\n",
    "    plt.show()\n",
    "    \n",
    "def output_text(qc):\n",
    "    text = ''\n",
    "    numbers = [1, 2, 3, 4, 5]\n",
    "    ordinals = {1: \"1st\", 2: \"2nd\", 3: \"3rd\"}\n",
    "\n",
    "    for num in numbers:\n",
    "        ordinal = ordinals.get(num, str(num) + \"th\")\n",
    "        text += f\"{ordinal} round: {simulate_circuit(qc)}\\n\"\n",
    "    return text\n",
    "    "
   ]
  },
  {
   "cell_type": "code",
   "execution_count": 182,
   "metadata": {
    "slideshow": {
     "slide_type": "subslide"
    }
   },
   "outputs": [
    {
     "data": {
      "image/png": "[encoded data removed]",
      "text/plain": [
       "<Figure size 1080x288 with 2 Axes>"
      ]
     },
     "metadata": {
      "needs_background": "light"
     },
     "output_type": "display_data"
    }
   ],
   "source": [
    "from qiskit import QuantumCircuit\n",
    "from qiskit.circuit import QuantumRegister, ClassicalRegister\n",
    "\n",
    "qr = QuantumRegister(1, 'q')\n",
    "cr = ClassicalRegister(2, 'c')\n",
    "qc = QuantumCircuit(qr, cr)\n",
    "\n",
    "qc.h(qr[0])\n",
    "qc.measure(qr[0], cr[0])\n",
    "\n",
    "with qc.if_test((cr[0], 1)):\n",
    "    qc.x(qr[0])\n",
    "    \n",
    "qc.measure(qr[0], cr[1])\n",
    "\n",
    "# qc.draw(output=\"mpl\")\n",
    "draw_circuit_and_print_output(qc)"
   ]
  },
  {
   "cell_type": "markdown",
   "metadata": {
    "slideshow": {
     "slide_type": "skip"
    }
   },
   "source": [
    "---\n",
    "The first bit is sometimes `0` and sometimes `1`, but the second bit is always `0`. \n",
    "\n",
    "_(recall that Qiskit uses little-endian bit-ordering, so that the right-most bit is the first bit and the left-most bit is the last bit)._"
   ]
  },
  {
   "cell_type": "markdown",
   "metadata": {
    "slideshow": {
     "slide_type": "slide"
    }
   },
   "source": [
    "# Quantum Teleportation\n",
    "---\n",
    "\n",
    "**Quantum teleportation** is a protocol that allows the transfer of quantum information from one qubit to another using entanglement and classical communication. It was proposed in `1993`. \n",
    "\n",
    "**The process** does not transmit the qubit itself but rather transfers the quantum state from the source qubit to the target qubit."
   ]
  },
  {
   "cell_type": "code",
   "execution_count": 290,
   "metadata": {
    "slideshow": {
     "slide_type": "skip"
    }
   },
   "outputs": [],
   "source": [
    "from qiskit import QuantumCircuit, QuantumRegister, ClassicalRegister\n",
    "from qiskit.circuit import Qubit, Clbit\n",
    "import math\n",
    "\n",
    "def initialize_circuit():\n",
    "    return QuantumCircuit(qr, cr)\n",
    "\n",
    "def create_bell_pair(qc, qr, cr):\n",
    "    \"\"\"Creates a bell pair between qubits a and b.\"\"\"\n",
    "    _, a, b = qr\n",
    "\n",
    "    ####### your code goes here #######\n",
    "    qc.h(a)\n",
    "    qc.cx(a, b)\n",
    "\n",
    "    return qc\n",
    "\n",
    "def alice_gates(qc, qr, cr):\n",
    "    \"\"\"Creates Alices's gates\"\"\"\n",
    "    qc.barrier()  # Use barrier to separate steps\n",
    "    s, a, b = qr\n",
    "\n",
    "    ####### your code goes here #######\n",
    "    qc.cx(s, a)\n",
    "    qc.h(s)\n",
    "\n",
    "    return qc\n",
    "\n",
    "def measure_and_send(qc, qr, cr):\n",
    "    \"\"\"Measures qubits a & b and 'sends' the results to Bob\"\"\"\n",
    "    qc.barrier()  # Use barrier to separate steps\n",
    "    s, a, b = qr\n",
    "    c0, c1, c2 = cr\n",
    "\n",
    "    ####### your code goes here #######\n",
    "    qc.measure(a, c0)\n",
    "    qc.measure(s, c1)\n",
    "\n",
    "    return qc\n",
    "\n",
    "def bob_gates(qc, qr, cr):\n",
    "    \"\"\"Uses qc.if_test to control which gates are dynamically added\"\"\"\n",
    "    qc.barrier()  # Use barrier to separate steps\n",
    "    s, a, b = qr\n",
    "    c0, c1, c2 = cr\n",
    "\n",
    "    ####### your code goes here #######\n",
    "    with qc.if_test((c1, 1)):\n",
    "        qc.z(b)\n",
    "    with qc.if_test((c0, 1)):\n",
    "        qc.x(b)\n",
    "        \n",
    "    qc.measure(b, c2)\n",
    "\n",
    "    return qc"
   ]
  },
  {
   "cell_type": "code",
   "execution_count": 291,
   "metadata": {
    "slideshow": {
     "slide_type": "skip"
    }
   },
   "outputs": [],
   "source": [
    "qr = QuantumRegister(3, name=\"q\")\n",
    "cr = ClassicalRegister(3, name=\"c\")\n",
    "\n",
    "bell_pair_circuit = create_bell_pair(initialize_circuit(), qr, cr)\n",
    "alice_gates_circuit = alice_gates(initialize_circuit(), qr, cr)\n",
    "measure_circuit = measure_and_send(initialize_circuit(), qr, cr)\n",
    "bob_gates_circuit = bob_gates(initialize_circuit(), qr, cr)"
   ]
  },
  {
   "cell_type": "code",
   "execution_count": 292,
   "metadata": {
    "slideshow": {
     "slide_type": "subslide"
    }
   },
   "outputs": [
    {
     "data": {
      "image/png": "[encoded data removed]",
      "text/plain": [
       "<Figure size 929.397x385.28 with 1 Axes>"
      ]
     },
     "execution_count": 292,
     "metadata": {},
     "output_type": "execute_result"
    }
   ],
   "source": [
    "initial_state = initialize_circuit()\n",
    "initial_state.rx(math.pi/4, 0)\n",
    "\n",
    "teleportation_circuit = (\n",
    "    initial_state.compose(bell_pair_circuit)\n",
    "    .compose(alice_gates_circuit)\n",
    "    .compose(measure_circuit)\n",
    "    .compose(bob_gates_circuit)\n",
    ")\n",
    "\n",
    "teleportation_circuit.draw(output=\"mpl\")"
   ]
  },
  {
   "cell_type": "markdown",
   "metadata": {
    "slideshow": {
     "slide_type": "subslide"
    }
   },
   "source": [
    "# Output\n",
    "---\n",
    "\n",
    "<center>\n",
    "<img src=\"resources/lab2_p1.png\" width=\"50%\">\n",
    "</center>"
   ]
  },
  {
   "cell_type": "markdown",
   "metadata": {
    "slideshow": {
     "slide_type": "slide"
    }
   },
   "source": [
    "# Iterative Phase Estimation\n",
    "---\n",
    "\n",
    "**Quantum phase estimation (QPE)** is a crucial algorithm used in Shor's factoring algorithm and quantum simulation. However, the textbook version with auxiliary qubits is challenging to execute on current noisy devices. \n",
    "\n",
    "**Iterative phase estimation (IPE)** is a variant that only needs one auxiliary qubit and was previously impossible to execute on IBM's hardware until `dynamic circuits` were introduced."
   ]
  },
  {
   "cell_type": "markdown",
   "metadata": {
    "slideshow": {
     "slide_type": "subslide"
    }
   },
   "source": [
    "# Iterative Phase Estimation\n",
    "---\n",
    "\n",
    "We will perform IPE on the single-qubit $S$-gate. The $S$ gate is given by the matrix\n",
    "\n",
    "$$ S =\n",
    "\\begin{pmatrix}\n",
    "1 & 0\\\\\n",
    "0 & e^{i\\pi / 2}\n",
    "\\end{pmatrix}$$\n",
    "\n",
    "We will use the eigenstate $|\\Psi\\rangle = |1\\rangle$, which has eigenvalue $e^{i\\pi / 2}= e^{i2\\pi \\cdot 1/4}$. So we have $\\varphi = 1/4 = 0.01 = 0.\\varphi_1 \\varphi_2$. Since $\\varphi$ can be represented exactly with 2 bits, our quantum circuit implementation will use a classical register with two bits to store the result.\n",
    "\n",
    "- **Step 1:** We measure the least significant bit of $\\varphi_2$.\n",
    "- **Step 2:** We extract the next bit $\\varphi_1$, which will involve applying a phase correction to cancel out the phase contribution from $\\varphi_2$. \n"
   ]
  },
  {
   "cell_type": "code",
   "execution_count": 293,
   "metadata": {
    "slideshow": {
     "slide_type": "skip"
    }
   },
   "outputs": [],
   "source": [
    "from qiskit import ClassicalRegister, QuantumCircuit, QuantumRegister\n",
    "import numpy as np\n",
    "import math\n",
    "\n",
    "def create_step_1_circuit(qc, qr, cr):\n",
    "    ####### your code goes here #######\n",
    "    qr0, qr1 = qr\n",
    "    cr0, cr1 = cr\n",
    "    qc.h(qr0)\n",
    "    qc.x(qr1)\n",
    "    qc.cp(math.pi, qr0, qr1)\n",
    "    qc.h(0)\n",
    "    qc.measure(qr0, cr0)\n",
    "\n",
    "    return qc\n",
    "\n",
    "def create_step_2_circuit(qc, qr, cr):\n",
    "    ####### your code goes here #######\n",
    "    qc.barrier()  # Use barrier to separate steps\n",
    "    qr0, qr1 = qr\n",
    "    cr0, cr1 = cr\n",
    "    qc.reset(qr0)\n",
    "    qc.h(qr0)\n",
    "    \n",
    "    with qc.if_test((cr0, 1)):\n",
    "        qc.p(-math.pi/2, qr0)\n",
    "        \n",
    "    qc.cp(math.pi/2, qr0, qr1)\n",
    "    qc.h(qr0)\n",
    "    qc.measure(qr0, cr1) \n",
    "    \n",
    "    return qc"
   ]
  },
  {
   "cell_type": "code",
   "execution_count": 294,
   "metadata": {
    "slideshow": {
     "slide_type": "skip"
    }
   },
   "outputs": [],
   "source": [
    "qr = QuantumRegister(2, \"q\")\n",
    "cr = ClassicalRegister(2, \"c\")\n",
    "\n",
    "step_1_circuit = create_step_1_circuit(initialize_circuit(), qr, cr)\n",
    "step_2_circuit = create_step_2_circuit(initialize_circuit(), qr, cr)"
   ]
  },
  {
   "cell_type": "code",
   "execution_count": 295,
   "metadata": {
    "slideshow": {
     "slide_type": "subslide"
    }
   },
   "outputs": [
    {
     "data": {
      "image/png": "[encoded data removed]",
      "text/plain": [
       "<Figure size 869.052x264.88 with 1 Axes>"
      ]
     },
     "execution_count": 295,
     "metadata": {},
     "output_type": "execute_result"
    }
   ],
   "source": [
    "initial_state = initialize_circuit()\n",
    "\n",
    "IPE_circuit = (\n",
    "    initial_state.compose(step_1_circuit)\n",
    "    .compose(step_2_circuit)\n",
    ")\n",
    "\n",
    "IPE_circuit.draw(output=\"mpl\")"
   ]
  },
  {
   "cell_type": "code",
   "execution_count": 296,
   "metadata": {
    "slideshow": {
     "slide_type": "subslide"
    }
   },
   "outputs": [
    {
     "data": {
      "image/png": "[encoded data removed]",
      "text/plain": [
       "<Figure size 504x360 with 1 Axes>"
      ]
     },
     "execution_count": 296,
     "metadata": {},
     "output_type": "execute_result"
    }
   ],
   "source": [
    "plot_histogram(simulate_circuit(IPE_circuit))"
   ]
  },
  {
   "cell_type": "markdown",
   "metadata": {
    "slideshow": {
     "slide_type": "fragment"
    }
   },
   "source": [
    "---\n",
    "We have gotten the bitstring `01` with 100% probability. This value corresponds to the phase written in binary as $\\varphi = 0.01 = 1/4$."
   ]
  },
  {
   "cell_type": "markdown",
   "metadata": {
    "slideshow": {
     "slide_type": "slide"
    }
   },
   "source": [
    "# Quantum Error Correction\n",
    "---\n",
    "\n",
    "**Error correction** is vital in quantum computing to address the inevitable errors caused by noise, ensuring accurate results by correcting them as they arise.\n",
    "\n",
    "**Dynamic circuits** can greatly aid quantum computers in error correction by mitigating noise and ensuring accurate results."
   ]
  },
  {
   "cell_type": "markdown",
   "metadata": {
    "slideshow": {
     "slide_type": "subslide"
    }
   },
   "source": [
    "# Quantum Error Correction\n",
    "---\n",
    "\n",
    "Let’s prepare everything such that we can start with implementing the error correction.\n",
    "\n",
    "- **Initializing the Qubit:** Prepare the physical state $|\\Psi_1\\rangle = |1\\rangle$\n",
    "- **Encoding the Qubit:** Map our state $|\\Psi_1\\rangle = (\\alpha |0\\rangle + \\beta |1\\rangle)$ using our encoding $U_{en}|\\Psi_0\\rangle$ to the state $ (\\alpha |000\\rangle + \\beta |111\\rangle)$.\n",
    "- **Measuring Stabilizers:** Compute syndrome bits, such that they can be measured to detect single bitflip errors.\n",
    "    - `00` -> No error occurred \n",
    "    - `01` -> An error occurred  in qubit 0 (the first qubit)\n",
    "    - `10` -> An error occurred  in qubit 1 (the second qubit)\n",
    "    - `11` -> An error occurred  in qubit 2 (the third qubit)\n",
    "- **Correcting Errors:** Correct the errors according to the measured syndromes.\n",
    "- **Decoding Circuit:** Use our decoding $U_{de}|\\Psi_0\\rangle$ which maps $ (\\alpha |000\\rangle + \\beta |111\\rangle)$ to   $|\\Psi_1\\rangle = (\\alpha |0\\rangle + \\beta |1\\rangle)$. _Hint:_ $U_{de} = U_{en}^\\dagger$"
   ]
  },
  {
   "cell_type": "code",
   "execution_count": 297,
   "metadata": {
    "slideshow": {
     "slide_type": "skip"
    }
   },
   "outputs": [],
   "source": [
    "# Initializing\n",
    "def initialize_circuit():\n",
    "    return QuantumCircuit(encoding, stabilizer, results, syndrome)\n",
    "\n",
    "# Encoding using bit flip code\n",
    "def encode_bit_flip(qc, state, ancillas):\n",
    "    qc.barrier(state, *ancillas)\n",
    "    for ancilla in ancillas:\n",
    "        qc.cx(state, ancilla)\n",
    "    return qc\n",
    "\n",
    "# Decoding (doing the reverse)\n",
    "def decode_bit_flip(qc, state, ancillas):\n",
    "    qc.barrier(state, *ancillas)\n",
    "    for ancilla in ancillas:\n",
    "        qc.cx(state, ancilla)\n",
    "    return qc\n",
    "\n",
    "def measure_syndrome_bit(qc, encoding, stabilizer):\n",
    "    qc.barrier()\n",
    "    encoding_q0, encoding_q1, encoding_q2 = encoding\n",
    "    stabilizer_q0, stabilizer_q1 = stabilizer\n",
    "\n",
    "    ####### your code goes here #######\n",
    "    qc.ccx(encoding_q0, encoding_q1, stabilizer_q0)\n",
    "    qc.ccx(encoding_q1, encoding_q2, stabilizer_q0)\n",
    "    qc.ccx(encoding_q0, encoding_q1, stabilizer_q1)\n",
    "    qc.ccx(encoding_q0, encoding_q2, stabilizer_q1)\n",
    "\n",
    "#     ####### don't edit the code below #######\n",
    "    qc.barrier()\n",
    "    qc.measure(stabilizer, syndrome)\n",
    "#     with qc.if_test((syndrome_b0, 1)):\n",
    "#         qc.x(stabilizer_q0)\n",
    "#     with qc.if_test((syndrome_b1, 1)):\n",
    "#         qc.x(stabilizer_q1)\n",
    "\n",
    "    return qc\n",
    "\n",
    "# Correct the errors, remember how we encoded the errors above!\n",
    "def apply_correction_bit(qc, encoding, syndrome):\n",
    "    qc.barrier()\n",
    "    encoding_q0, encoding_q1, encoding_q2 = encoding\n",
    "\n",
    "    ####### your code goes here #######\n",
    "    with qc.if_test((syndrome_b0, 1)):\n",
    "        with qc.if_test((syndrome_b1, 0)):\n",
    "            qc.x(encoding_q0)\n",
    "    with qc.if_test((syndrome_b0, 0)):\n",
    "        with qc.if_test((syndrome_b1, 1)):\n",
    "            qc.x(encoding_q1)\n",
    "    with qc.if_test((syndrome_b0, 1)):\n",
    "        with qc.if_test((syndrome_b1, 1)):\n",
    "            qc.x(encoding_q2)\n",
    "    \n",
    "    return qc\n",
    "\n",
    "def apply_final_readout(qc, encoding, results):\n",
    "    qc.barrier(encoding)\n",
    "    qc.measure(encoding, results)\n",
    "    return qc\n",
    "\n",
    "def make_some_noise(qc, encoding, syndrome, error_percentage):\n",
    "    encoding_q0, encoding_q1, encoding_q2 = encoding\n",
    "    syndrome_b0, syndrome_b1 = syndrome\n",
    "\n",
    "    ####### your code goes here #######\n",
    "    qc.barrier(encoding)\n",
    "    err_perc = 0.1\n",
    "    theta = 2 * math.asin(math.sqrt(err_perc))\n",
    "    qc.rx(theta, encoding_q0)\n",
    "    qc.rx(theta, encoding_q1)\n",
    "    qc.rx(theta, encoding_q2)\n",
    "\n",
    "    return qc"
   ]
  },
  {
   "cell_type": "code",
   "execution_count": 298,
   "metadata": {
    "slideshow": {
     "slide_type": "skip"
    }
   },
   "outputs": [],
   "source": [
    "# Setup a base quantum circuit for our experiments\n",
    "encoding = QuantumRegister(3, 'encoding')\n",
    "stabilizer = QuantumRegister(2, 'stabilizer')\n",
    "\n",
    "encoding_q0, encoding_q1, encoding_q2 = encoding\n",
    "stabilizer_q0, stabilizer_q1 = stabilizer\n",
    "\n",
    "# Results of the encoding\n",
    "results = ClassicalRegister(3, 'result')\n",
    "\n",
    "result_b0, result_b1, result_b2 = results\n",
    "\n",
    "# For measuring the stabilizer\n",
    "syndrome = ClassicalRegister(2, 'syndrome')\n",
    "\n",
    "syndrome_b0, syndrome_b1 = syndrome\n",
    "\n",
    "# The actual qubit which is encoded\n",
    "state = encoding[0]\n",
    "\n",
    "# The ancillas used for encoding the state\n",
    "ancillas = encoding[1:]\n",
    "\n",
    "encoding_circuit = encode_bit_flip(initialize_circuit(), state, ancillas)\n",
    "syndrome_circuit = measure_syndrome_bit(initialize_circuit(), encoding, stabilizer)\n",
    "correction_circuit = apply_correction_bit(initialize_circuit(), encoding, syndrome)\n",
    "decoding_circuit = decode_bit_flip(initialize_circuit(), state, ancillas)\n",
    "measuring_circuit = apply_final_readout(initialize_circuit(), encoding, results)\n",
    "\n",
    "noise_circuit = make_some_noise(initialize_circuit(), encoding, syndrome, 10)"
   ]
  },
  {
   "cell_type": "code",
   "execution_count": 302,
   "metadata": {
    "slideshow": {
     "slide_type": "subslide"
    }
   },
   "outputs": [],
   "source": [
    "initial_state = initialize_circuit()\n",
    "initial_state.x(encoding[0])\n",
    "\n",
    "complete_circuit = (\n",
    "    initial_state.compose(encoding_circuit)\n",
    "    .compose(noise_circuit) # generating noise 10%\n",
    "    .compose(syndrome_circuit)\n",
    "    .compose(correction_circuit)\n",
    "    .compose(decoding_circuit)\n",
    "    .compose(measuring_circuit)\n",
    ")\n",
    "# complete_circuit.draw(output=\"mpl\")"
   ]
  },
  {
   "cell_type": "markdown",
   "metadata": {
    "slideshow": {
     "slide_type": "subslide"
    }
   },
   "source": [
    "<center>\n",
    "    <img src=\"resources/lab4_1.png\" width=\"100%\">\n",
    "</center>"
   ]
  },
  {
   "cell_type": "code",
   "execution_count": 303,
   "metadata": {
    "slideshow": {
     "slide_type": "subslide"
    }
   },
   "outputs": [
    {
     "data": {
      "image/png": "[encoded data removed]",
      "text/plain": [
       "<Figure size 504x360 with 1 Axes>"
      ]
     },
     "execution_count": 303,
     "metadata": {},
     "output_type": "execute_result"
    }
   ],
   "source": [
    "from qiskit import Aer\n",
    "\n",
    "backend = Aer.get_backend(\"qasm_simulator\")\n",
    "counts = backend.run(complete_circuit, shots=1000).result().get_counts()\n",
    "plot_histogram(counts)"
   ]
  },
  {
   "cell_type": "code",
   "execution_count": 301,
   "metadata": {
    "slideshow": {
     "slide_type": "skip"
    }
   },
   "outputs": [
    {
     "data": {
      "image/png": "[encoded data removed]",
      "text/plain": [
       "<Figure size 504x360 with 1 Axes>"
      ]
     },
     "execution_count": 301,
     "metadata": {},
     "output_type": "execute_result"
    }
   ],
   "source": [
    "from qiskit.providers.fake_provider import FakeManilaV2\n",
    "\n",
    "backend = FakeManilaV2()\n",
    "counts = backend.run(complete_circuit, shots=1000).result().get_counts()\n",
    "plot_histogram(counts)"
   ]
  },
  {
   "cell_type": "markdown",
   "metadata": {
    "slideshow": {
     "slide_type": "slide"
    }
   },
   "source": [
    "# Using a 127-qubit System\n",
    "---\n",
    "\n",
    "It was a reward to use one of **`IBM Quantum 127 qubit devices`**\n",
    "\n",
    "<br>\n",
    "<center>\n",
    "    <img src=\"resources/ibm_sherbrooke.png\" width=\"40%\">\n",
    "</center>"
   ]
  },
  {
   "cell_type": "markdown",
   "metadata": {
    "slideshow": {
     "slide_type": "slide"
    }
   },
   "source": [
    "<center>\n",
    "    <img src=\"resources/thank-you.png\" width=\"70%\">\n",
    "</center>"
   ]
  },
  {
   "cell_type": "code",
   "execution_count": 315,
   "metadata": {
    "scrolled": true,
    "slideshow": {
     "slide_type": "skip"
    }
   },
   "outputs": [
    {
     "name": "stdout",
     "output_type": "stream",
     "text": [
      "[NbConvertApp] Converting notebook Presentation.ipynb to slides\n",
      "[NbConvertApp] Writing 385681 bytes to Presentation.slides.html\n",
      "[NbConvertApp] Redirecting reveal.js requests to https://cdnjs.cloudflare.com/ajax/libs/reveal.js/3.5.0\n",
      "Serving your slides at http://127.0.0.1:8000/Presentation.slides.html\n",
      "Use Control-C to stop this server\n",
      "WARNING:tornado.access:404 GET /custom.css (127.0.0.1) 1.29ms\n",
      "^C\n",
      "\n",
      "Interrupted\n"
     ]
    }
   ],
   "source": [
    "!jupyter nbconvert 'Presentation.ipynb' --to slides --post serve"
   ]
  }
 ],
 "metadata": {
  "celltoolbar": "Slideshow",
  "kernelspec": {
   "display_name": "Python 3",
   "language": "python",
   "name": "python3"
  },
  "language_info": {
   "codemirror_mode": {
    "name": "ipython",
    "version": 3
   },
   "file_extension": ".py",
   "mimetype": "text/x-python",
   "name": "python",
   "nbconvert_exporter": "python",
   "pygments_lexer": "ipython3",
   "version": "3.8.3"
  }
 },
 "nbformat": 4,
 "nbformat_minor": 4
}
